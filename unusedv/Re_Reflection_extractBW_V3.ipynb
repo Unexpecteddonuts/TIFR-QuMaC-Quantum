{
 "cells": [
  {
   "cell_type": "code",
   "execution_count": 1,
   "id": "8d175a45",
   "metadata": {
    "scrolled": false
   },
   "outputs": [],
   "source": [
    "import matplotlib.pyplot as plt\n",
    "import numpy as np\n",
    "from scipy.optimize import curve_fit"
   ]
  },
  {
   "cell_type": "code",
   "execution_count": 4,
   "id": "50da62e1",
   "metadata": {},
   "outputs": [],
   "source": [
    "def lorentzian(x,c,gam,a,y0):\n",
    "    return y0 + (2*a/np.pi)*gam/(4*(x-c)**2 + gam**2)\n",
    "\n",
    "def ext_BW(freq, ydata, plot=False):\n",
    "    \n",
    "    ymin = np.min(ydata)\n",
    "    ymax = np.max(ydata)\n",
    "\n",
    "     #initial guess\n",
    "    left_index = np.where(ydata > 0.5*(ymax+ymin)) [0][0]    #FWHM\n",
    "    right_index = np.where(ydata > 0.5*(ymax+ymin))[0][-1]   #FWHM\n",
    "    BW_g = freq[right_index] - freq[left_index]\n",
    "    wc_g = freq[np.argmax(ydata)]\n",
    "    a_g = 0.5*np.pi*(ymax-ymin)*BW_g\n",
    "    y0_g = ymin\n",
    "\n",
    "\n",
    "    res, cov = curve_fit(lorentzian,freq,ydata,[wc_g, BW_g, a_g, y0_g])\n",
    "\n",
    "    \n",
    "    f0, bw = res[0], res[1]\n",
    "    f0_err, bw_err = np.sqrt(cov[0,0]), np.sqrt(cov[1,1])\n",
    "\n",
    "    a, y0 = res[2], res[3]\n",
    "    a_err, y0_err = np.sqrt(cov[2,2]), np.sqrt(cov[3,3])\n",
    "\n",
    "    H = 2*a/(np.pi*bw)\n",
    "    H_err = H*(a_err/a + bw_err/bw) \n",
    "    y_xc = H + y0\n",
    "    y_xc_err = H_err + y0_err\n",
    "    \n",
    "    r = (y0 - y_xc)/(y0 + y_xc)\n",
    "    r_err = r*(y0_err + y_xc_err)*(1/(-y0 + y_xc) + 1/(-y0 - y_xc))\n",
    "\n",
    "    kint = bw/(1+r)\n",
    "    kext = bw*r/(1+r)\n",
    "\n",
    "    kint_err = kint*(bw_err/bw + r_err/(r+1))\n",
    "    kext_err = bw_err + kint_err\n",
    "    \n",
    "    Qint = f0/kint\n",
    "    Qext = f0/kext\n",
    "    \n",
    "    Qint_err = Qint*(f0_err/f0 + kint_err/kint)\n",
    "    Qext_err = Qext*(f0_err/f0 + kext_err/kext)\n",
    "\n",
    "    \n",
    "        \n",
    "    f0 = np.round(f0*1e-9,10)\n",
    "    f0_err = np.round(f0_err*1e-9,10)\n",
    "    bw = np.round(bw*1e-9,10)\n",
    "    bw_err = np.round(bw_err*1e-9,10)\n",
    "    kint = np.round(kint*1e-9,10)\n",
    "    kext = np.round(kext*1e-9,10)\n",
    "    kint_err = np.round(kint_err*1e-9,10)\n",
    "    kext_err = np.round(kext_err*1e-9,10)\n",
    "    \n",
    "    if plot:\n",
    "        plt.plot(freq*1e-9, ydata, label = \"Data\")\n",
    "        plt.plot(freq*1e-9, lorentzian(freq, res[0], res[1], res[2], res[3]), c = 'r',label = \"Fit\")\n",
    "        plt.xlabel(\"Frequency (GHz)\")\n",
    "        plt.ylabel(\"Measured ReS11\")\n",
    "        plt.grid()\n",
    "        plt.legend()\n",
    "        plt.show()\n",
    "        print(\"Cavity Frequency = {0} GHz; Total Bandwidth = {1} MHz\".format(f0, 1e3*bw))\n",
    "        print(\"Internal Bandwidth = {0} MHz; External Bandwidth = {1} MHz\".format(1e3*kint,1e3*kext))\n",
    "        \n",
    "    out1 = [(f0, f0_err), (1e3*kint, 1e3*kint_err), (1e3*kext, 1e3*kext_err)]\n",
    "    out2 = [(Qint, Qint_err), (Qext,Qext_err)]\n",
    "    \n",
    "    return out1, out2 ,res, np.sqrt(np.diag(cov))\n"
   ]
  },
  {
   "cell_type": "code",
   "execution_count": null,
   "id": "76e8bd27",
   "metadata": {
    "scrolled": false
   },
   "outputs": [],
   "source": [
    "data = np.transpose(np.loadtxt('CavityResponse_forAakif.txt', dtype= str))\n",
    "freq= [float(freq) for freq in data[0]]\n",
    "ydata= [float(ydat) for ydat in data[1]]\n",
    "\n",
    "freq = np.array(freq)\n",
    "ydata = np.array(ydata)\n",
    "\n"
   ]
  },
  {
   "cell_type": "code",
   "execution_count": 10,
   "id": "ea888435",
   "metadata": {},
   "outputs": [
    {
     "data": {
      "image/png": "[encoded data removed]",
      "text/plain": [
       "<Figure size 640x480 with 1 Axes>"
      ]
     },
     "metadata": {},
     "output_type": "display_data"
    },
    {
     "name": "stdout",
     "output_type": "stream",
     "text": [
      "Cavity Frequency = 7.4594911777 GHz; Total Bandwidth = 12.824640599999999 MHz\n",
      "Internal Bandwidth = 11.6537863 MHz; External Bandwidth = 1.1708543 MHz\n"
     ]
    }
   ],
   "source": [
    "meas_vals, q_vals, fit_param, fit_error = ext_BW(freq, ydata, plot=True)"
   ]
  },
  {
   "cell_type": "code",
   "execution_count": null,
   "id": "004cb6e7",
   "metadata": {},
   "outputs": [],
   "source": []
  },
  {
   "cell_type": "code",
   "execution_count": 11,
   "id": "e165840c",
   "metadata": {},
   "outputs": [
    {
     "data": {
      "text/plain": [
       "array([2.34710733e+20, 1.90763909e+20, 1.70713506e+18, 1.13509550e+11])"
      ]
     },
     "execution_count": 11,
     "metadata": {},
     "output_type": "execute_result"
    }
   ],
   "source": [
    "#fit_param\n",
    "fit_error"
   ]
  },
  {
   "cell_type": "code",
   "execution_count": 12,
   "id": "dada81d6",
   "metadata": {},
   "outputs": [
    {
     "name": "stdout",
     "output_type": "stream",
     "text": [
      "F:\\Expt Data\\2023-03-20 Ta_res02_L2, FLX_2Q_dev02 and its brother\\2023-03-28 after 2nd cycle Ta_res Py\\data_-100.0_dBm.txt\n"
     ]
    },
    {
     "ename": "FileNotFoundError",
     "evalue": "F:\\Expt Data\\2023-03-20 Ta_res02_L2, FLX_2Q_dev02 and its brother\\2023-03-28 after 2nd cycle Ta_res Py\\data_-100.0_dBm.txt not found.",
     "output_type": "error",
     "traceback": [
      "\u001b[1;31m---------------------------------------------------------------------------\u001b[0m",
      "\u001b[1;31mFileNotFoundError\u001b[0m                         Traceback (most recent call last)",
      "\u001b[1;32mc:\\Users\\aakif\\OneDrive - Durham University\\Personal\\Quantum\\tifr work\\Automation\\Re_Reflection_extractBW_V3.ipynb Cell 7\u001b[0m line \u001b[0;36m1\n\u001b[0;32m     <a href='vscode-notebook-cell:/c%3A/Users/aakif/OneDrive%20-%20Durham%20University/Personal/Quantum/tifr%20work/Automation/Re_Reflection_extractBW_V3.ipynb#W6sZmlsZQ%3D%3D?line=11'>12</a>\u001b[0m filepath \u001b[39m=\u001b[39m \u001b[39mf\u001b[39m\u001b[39m'\u001b[39m\u001b[39mF:\u001b[39m\u001b[39m\\\u001b[39m\u001b[39mExpt Data\u001b[39m\u001b[39m\\\\\u001b[39;00m\u001b[39m2023-03-20 Ta_res02_L2, FLX_2Q_dev02 and its brother\u001b[39m\u001b[39m\\\\\u001b[39;00m\u001b[39m2023-03-28 after 2nd cycle Ta_res Py\u001b[39m\u001b[39m\\\u001b[39m\u001b[39mdata_\u001b[39m\u001b[39m{\u001b[39;00mp\u001b[39m}\u001b[39;00m\u001b[39m.0_dBm.txt\u001b[39m\u001b[39m'\u001b[39m\n\u001b[0;32m     <a href='vscode-notebook-cell:/c%3A/Users/aakif/OneDrive%20-%20Durham%20University/Personal/Quantum/tifr%20work/Automation/Re_Reflection_extractBW_V3.ipynb#W6sZmlsZQ%3D%3D?line=12'>13</a>\u001b[0m \u001b[39mprint\u001b[39m(filepath)\n\u001b[1;32m---> <a href='vscode-notebook-cell:/c%3A/Users/aakif/OneDrive%20-%20Durham%20University/Personal/Quantum/tifr%20work/Automation/Re_Reflection_extractBW_V3.ipynb#W6sZmlsZQ%3D%3D?line=14'>15</a>\u001b[0m data\u001b[39m=\u001b[39m np\u001b[39m.\u001b[39mtranspose(np\u001b[39m.\u001b[39;49mloadtxt(filepath))\n\u001b[0;32m     <a href='vscode-notebook-cell:/c%3A/Users/aakif/OneDrive%20-%20Durham%20University/Personal/Quantum/tifr%20work/Automation/Re_Reflection_extractBW_V3.ipynb#W6sZmlsZQ%3D%3D?line=15'>16</a>\u001b[0m freq\u001b[39m=\u001b[39mdata[\u001b[39m0\u001b[39m]\n\u001b[0;32m     <a href='vscode-notebook-cell:/c%3A/Users/aakif/OneDrive%20-%20Durham%20University/Personal/Quantum/tifr%20work/Automation/Re_Reflection_extractBW_V3.ipynb#W6sZmlsZQ%3D%3D?line=16'>17</a>\u001b[0m ydata\u001b[39m=\u001b[39mdata[\u001b[39m1\u001b[39m]\n",
      "File \u001b[1;32m~\\AppData\\Local\\Packages\\PythonSoftwareFoundation.Python.3.11_qbz5n2kfra8p0\\LocalCache\\local-packages\\Python311\\site-packages\\numpy\\lib\\npyio.py:1373\u001b[0m, in \u001b[0;36mloadtxt\u001b[1;34m(fname, dtype, comments, delimiter, converters, skiprows, usecols, unpack, ndmin, encoding, max_rows, quotechar, like)\u001b[0m\n\u001b[0;32m   1370\u001b[0m \u001b[39mif\u001b[39;00m \u001b[39misinstance\u001b[39m(delimiter, \u001b[39mbytes\u001b[39m):\n\u001b[0;32m   1371\u001b[0m     delimiter \u001b[39m=\u001b[39m delimiter\u001b[39m.\u001b[39mdecode(\u001b[39m'\u001b[39m\u001b[39mlatin1\u001b[39m\u001b[39m'\u001b[39m)\n\u001b[1;32m-> 1373\u001b[0m arr \u001b[39m=\u001b[39m _read(fname, dtype\u001b[39m=\u001b[39;49mdtype, comment\u001b[39m=\u001b[39;49mcomment, delimiter\u001b[39m=\u001b[39;49mdelimiter,\n\u001b[0;32m   1374\u001b[0m             converters\u001b[39m=\u001b[39;49mconverters, skiplines\u001b[39m=\u001b[39;49mskiprows, usecols\u001b[39m=\u001b[39;49musecols,\n\u001b[0;32m   1375\u001b[0m             unpack\u001b[39m=\u001b[39;49munpack, ndmin\u001b[39m=\u001b[39;49mndmin, encoding\u001b[39m=\u001b[39;49mencoding,\n\u001b[0;32m   1376\u001b[0m             max_rows\u001b[39m=\u001b[39;49mmax_rows, quote\u001b[39m=\u001b[39;49mquotechar)\n\u001b[0;32m   1378\u001b[0m \u001b[39mreturn\u001b[39;00m arr\n",
      "File \u001b[1;32m~\\AppData\\Local\\Packages\\PythonSoftwareFoundation.Python.3.11_qbz5n2kfra8p0\\LocalCache\\local-packages\\Python311\\site-packages\\numpy\\lib\\npyio.py:992\u001b[0m, in \u001b[0;36m_read\u001b[1;34m(fname, delimiter, comment, quote, imaginary_unit, usecols, skiplines, max_rows, converters, ndmin, unpack, dtype, encoding)\u001b[0m\n\u001b[0;32m    990\u001b[0m     fname \u001b[39m=\u001b[39m os\u001b[39m.\u001b[39mfspath(fname)\n\u001b[0;32m    991\u001b[0m \u001b[39mif\u001b[39;00m \u001b[39misinstance\u001b[39m(fname, \u001b[39mstr\u001b[39m):\n\u001b[1;32m--> 992\u001b[0m     fh \u001b[39m=\u001b[39m np\u001b[39m.\u001b[39;49mlib\u001b[39m.\u001b[39;49m_datasource\u001b[39m.\u001b[39;49mopen(fname, \u001b[39m'\u001b[39;49m\u001b[39mrt\u001b[39;49m\u001b[39m'\u001b[39;49m, encoding\u001b[39m=\u001b[39;49mencoding)\n\u001b[0;32m    993\u001b[0m     \u001b[39mif\u001b[39;00m encoding \u001b[39mis\u001b[39;00m \u001b[39mNone\u001b[39;00m:\n\u001b[0;32m    994\u001b[0m         encoding \u001b[39m=\u001b[39m \u001b[39mgetattr\u001b[39m(fh, \u001b[39m'\u001b[39m\u001b[39mencoding\u001b[39m\u001b[39m'\u001b[39m, \u001b[39m'\u001b[39m\u001b[39mlatin1\u001b[39m\u001b[39m'\u001b[39m)\n",
      "File \u001b[1;32m~\\AppData\\Local\\Packages\\PythonSoftwareFoundation.Python.3.11_qbz5n2kfra8p0\\LocalCache\\local-packages\\Python311\\site-packages\\numpy\\lib\\_datasource.py:193\u001b[0m, in \u001b[0;36mopen\u001b[1;34m(path, mode, destpath, encoding, newline)\u001b[0m\n\u001b[0;32m    156\u001b[0m \u001b[39m\u001b[39m\u001b[39m\"\"\"\u001b[39;00m\n\u001b[0;32m    157\u001b[0m \u001b[39mOpen `path` with `mode` and return the file object.\u001b[39;00m\n\u001b[0;32m    158\u001b[0m \n\u001b[1;32m   (...)\u001b[0m\n\u001b[0;32m    189\u001b[0m \n\u001b[0;32m    190\u001b[0m \u001b[39m\"\"\"\u001b[39;00m\n\u001b[0;32m    192\u001b[0m ds \u001b[39m=\u001b[39m DataSource(destpath)\n\u001b[1;32m--> 193\u001b[0m \u001b[39mreturn\u001b[39;00m ds\u001b[39m.\u001b[39;49mopen(path, mode, encoding\u001b[39m=\u001b[39;49mencoding, newline\u001b[39m=\u001b[39;49mnewline)\n",
      "File \u001b[1;32m~\\AppData\\Local\\Packages\\PythonSoftwareFoundation.Python.3.11_qbz5n2kfra8p0\\LocalCache\\local-packages\\Python311\\site-packages\\numpy\\lib\\_datasource.py:533\u001b[0m, in \u001b[0;36mDataSource.open\u001b[1;34m(self, path, mode, encoding, newline)\u001b[0m\n\u001b[0;32m    530\u001b[0m     \u001b[39mreturn\u001b[39;00m _file_openers[ext](found, mode\u001b[39m=\u001b[39mmode,\n\u001b[0;32m    531\u001b[0m                               encoding\u001b[39m=\u001b[39mencoding, newline\u001b[39m=\u001b[39mnewline)\n\u001b[0;32m    532\u001b[0m \u001b[39melse\u001b[39;00m:\n\u001b[1;32m--> 533\u001b[0m     \u001b[39mraise\u001b[39;00m \u001b[39mFileNotFoundError\u001b[39;00m(\u001b[39mf\u001b[39m\u001b[39m\"\u001b[39m\u001b[39m{\u001b[39;00mpath\u001b[39m}\u001b[39;00m\u001b[39m not found.\u001b[39m\u001b[39m\"\u001b[39m)\n",
      "\u001b[1;31mFileNotFoundError\u001b[0m: F:\\Expt Data\\2023-03-20 Ta_res02_L2, FLX_2Q_dev02 and its brother\\2023-03-28 after 2nd cycle Ta_res Py\\data_-100.0_dBm.txt not found."
     ]
    }
   ],
   "source": [
    "pmin, pmax = -100, 10\n",
    "del_p = 10\n",
    "p_vals = np.arange(pmin,pmax + del_p -1, del_p)\n",
    "\n",
    "kint_list, kext_list = [], []\n",
    "Qint_list, Qext_list = [], []\n",
    "fit_param_list =[]\n",
    "Q_with_pow_list=[]\n",
    "\n",
    "for p in p_vals:\n",
    "    \n",
    "    filepath = f'F:\\Expt Data\\\\2023-03-20 Ta_res02_L2, FLX_2Q_dev02 and its brother\\\\2023-03-28 after 2nd cycle Ta_res Py\\data_{p}.0_dBm.txt'\n",
    "    print(filepath)\n",
    "   \n",
    "    data= np.transpose(np.loadtxt(filepath))\n",
    "    freq=data[0]\n",
    "    ydata=data[1]\n",
    "\n",
    "    meas_vals, q_vals, fit_param, fit_error = ext_BW(freq, ydata, plot=True)\n",
    "    \n",
    "    fit_param_list.append([p, fit_param[0],fit_error[0], fit_param[1],fit_error[1],fit_param[2],fit_error[2],fit_param[3],fit_error[3]])\n",
    "    Q_with_pow_list.append([p, meas_vals[0][0],q_vals[0][0], q_vals[0][1],q_vals[1][0], q_vals[1][1]])\n",
    "    \n",
    "    kint_list.append(meas_vals[1])\n",
    "    kext_list.append(meas_vals[2])\n",
    "    \n",
    "    Qint_list.append(q_vals[0])\n",
    "    Qext_list.append(q_vals[1])\n",
    "np.savetxt(\"F:\\\\Expt Data\\\\2023-03-20 Ta_res02_L2, FLX_2Q_dev02 and its brother\\\\2023-03-28 after 2nd cycle Ta_res Py\\\\Lorentian_fit_params_with_power.txt\", fit_param_list, header=\"Power Freq Freq_err BW BW_err A A_err y0 y0_err\")\n",
    "np.savetxt(\"F:\\\\Expt Data\\\\2023-03-20 Ta_res02_L2, FLX_2Q_dev02 and its brother\\\\2023-03-28 after 2nd cycle Ta_res Py\\\\Q_with_power.txt\", Q_with_pow_list, header=\"Power Freq Qint Qint_err Qext Qext_err\")"
   ]
  },
  {
   "cell_type": "code",
   "execution_count": null,
   "id": "01881d44",
   "metadata": {},
   "outputs": [
    {
     "data": {
      "text/plain": [
       "[['Power', 'Freq', 'Qint', 'Qint_err', 'Qext', 'Qext_err'],\n",
       " array([-9.00000000e+01,  4.94161484e+00,  1.93950618e+05,  1.15521169e+05,\n",
       "         3.93675034e+04,  7.27618877e+03]),\n",
       " array([-8.00000000e+01,  4.94161781e+00,  2.10597505e+05,  4.43217689e+04,\n",
       "         3.62819134e+04,  1.99797638e+03]),\n",
       " array([-7.00000000e+01,  4.94161843e+00,  1.74434147e+05,  1.02029380e+04,\n",
       "         3.58356627e+04,  6.55885220e+02]),\n",
       " array([-6.00000000e+01,  4.94161840e+00,  1.85844646e+05,  8.20077439e+03,\n",
       "         3.60755128e+04,  4.70269929e+02]),\n",
       " array([-5.00000000e+01,  4.94161848e+00,  2.22653323e+05,  3.78539048e+03,\n",
       "         3.60084588e+04,  1.50155922e+02]),\n",
       " array([-4.00000000e+01,  4.94161844e+00,  2.79219537e+05,  3.06761329e+03,\n",
       "         3.59773681e+04,  7.69667142e+01]),\n",
       " array([-3.00000000e+01,  4.94161858e+00,  3.77882796e+05,  6.55250005e+03,\n",
       "         3.59518654e+04,  8.92944579e+01]),\n",
       " array([-2.00000000e+01,  4.94161815e+00,  4.94655272e+05,  8.28693148e+03,\n",
       "         3.59814160e+04,  6.58460499e+01]),\n",
       " array([-1.00000000e+01,  4.94161772e+00,  6.09116067e+05,  1.14361625e+04,\n",
       "         3.59985396e+04,  5.98891519e+01]),\n",
       " array([0.00000000e+00, 4.94162016e+00, 6.22698231e+05, 4.79984308e+04,\n",
       "        3.60749740e+04, 2.41517547e+02]),\n",
       " array([1.00000000e+01, 4.94161795e+00, 4.89508816e+05, 3.56976268e+04,\n",
       "        3.61109644e+04, 2.91805376e+02])]"
      ]
     },
     "execution_count": 113,
     "metadata": {},
     "output_type": "execute_result"
    }
   ],
   "source": [
    "fit_param_list"
   ]
  },
  {
   "cell_type": "code",
   "execution_count": null,
   "id": "4f306945",
   "metadata": {},
   "outputs": [
    {
     "data": {
      "text/plain": [
       "[]"
      ]
     },
     "execution_count": 131,
     "metadata": {},
     "output_type": "execute_result"
    },
    {
     "data": {
      "image/png": "[encoded data removed]",
      "text/plain": [
       "<Figure size 432x288 with 1 Axes>"
      ]
     },
     "metadata": {
      "needs_background": "light"
     },
     "output_type": "display_data"
    }
   ],
   "source": [
    "Qint_vals = np.array([Qint[0] for Qint in Qint_list])\n",
    "Qint_err_vals = np.array([Qint[1] for Qint in Qint_list])\n",
    "Qext_vals = np.array([Qext[0] for Qext in Qext_list])\n",
    "Qext_err_vals = np.array([Qext[1] for Qext in Qext_list])\n",
    "\n",
    "plt.errorbar(p_vals, 1e-5*Qint_vals, fmt=\"b^\", label = \"Internal\", yerr=1e-5*Qint_err_vals, linestyle = None)\n",
    "plt.errorbar(p_vals, 1e-5*Qext_vals, fmt=\"m.\", label = \"External\", yerr=1e-5*Qext_err_vals, linestyle = None)\n",
    "plt.xlabel(\"Power (dBm)\")\n",
    "plt.ylabel(\"Quality Factor ($10^5$)\")\n",
    "plt.title(\"Quality Factor vs VNA Power\")\n",
    "plt.grid()\n",
    "plt.legend()\n",
    "plt.plot()\n"
   ]
  },
  {
   "cell_type": "code",
   "execution_count": null,
   "id": "0bb5399a",
   "metadata": {},
   "outputs": [],
   "source": []
  },
  {
   "cell_type": "code",
   "execution_count": null,
   "id": "417428bb",
   "metadata": {},
   "outputs": [
    {
     "data": {
      "text/plain": [
       "[]"
      ]
     },
     "execution_count": 132,
     "metadata": {},
     "output_type": "execute_result"
    },
    {
     "data": {
      "image/png": "[encoded data removed]",
      "text/plain": [
       "<Figure size 432x288 with 1 Axes>"
      ]
     },
     "metadata": {
      "needs_background": "light"
     },
     "output_type": "display_data"
    }
   ],
   "source": [
    "kint_vals = np.array([kint[0] for kint in kint_list])\n",
    "kint_err_vals = np.array([kint[1] for kint in kint_list])\n",
    "kext_vals = np.array([kext[0] for kext in kext_list])\n",
    "kext_err_vals = np.array([kext[1] for kext in kext_list])\n",
    "\n",
    "plt.errorbar(p_vals, kint_vals, fmt=\"b^\", label = \"Internal\", yerr=kint_err_vals, linestyle = None)\n",
    "plt.errorbar(p_vals, kext_vals, fmt=\"m.\", label = \"External\", yerr=kext_err_vals, linestyle = None)\n",
    "plt.xlabel(\"Power (dBm)\")\n",
    "plt.ylabel(\"BandWidth (MHz)\")\n",
    "plt.title(\"Bandwidth vs VNA Power\")\n",
    "plt.grid()\n",
    "plt.legend()\n",
    "plt.plot()"
   ]
  },
  {
   "cell_type": "code",
   "execution_count": null,
   "id": "9ea58c98",
   "metadata": {},
   "outputs": [
    {
     "data": {
      "text/plain": [
       "array([3, 4, 5, 6], dtype=int64)"
      ]
     },
     "execution_count": 12,
     "metadata": {},
     "output_type": "execute_result"
    }
   ],
   "source": [
    "np.where(np.array([0,1,2,3,4,5,6])>2.5)[0]"
   ]
  },
  {
   "cell_type": "code",
   "execution_count": null,
   "id": "23c506d8",
   "metadata": {},
   "outputs": [],
   "source": [
    "a=[[1,2,3],[4,5,6],[7,8,9]]"
   ]
  },
  {
   "cell_type": "code",
   "execution_count": null,
   "id": "517baaa7",
   "metadata": {},
   "outputs": [
    {
     "data": {
      "text/plain": [
       "array([1, 5, 9])"
      ]
     },
     "execution_count": 96,
     "metadata": {},
     "output_type": "execute_result"
    }
   ],
   "source": [
    "np.diag(a)"
   ]
  },
  {
   "cell_type": "code",
   "execution_count": null,
   "metadata": {},
   "outputs": [],
   "source": []
  }
 ],
 "metadata": {
  "kernelspec": {
   "display_name": "Python 3",
   "language": "python",
   "name": "python3"
  },
  "language_info": {
   "codemirror_mode": {
    "name": "ipython",
    "version": 3
   },
   "file_extension": ".py",
   "mimetype": "text/x-python",
   "name": "python",
   "nbconvert_exporter": "python",
   "pygments_lexer": "ipython3",
   "version": "3.11.5"
  }
 },
 "nbformat": 4,
 "nbformat_minor": 5
}
